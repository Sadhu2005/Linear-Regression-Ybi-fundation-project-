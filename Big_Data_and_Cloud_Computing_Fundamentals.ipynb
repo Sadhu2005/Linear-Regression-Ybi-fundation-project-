{
  "nbformat": 4,
  "nbformat_minor": 0,
  "metadata": {
    "colab": {
      "provenance": [],
      "include_colab_link": true
    },
    "kernelspec": {
      "name": "python3",
      "display_name": "Python 3"
    },
    "language_info": {
      "name": "python"
    }
  },
  "cells": [
    {
      "cell_type": "markdown",
      "metadata": {
        "id": "view-in-github",
        "colab_type": "text"
      },
      "source": [
        "<a href=\"https://colab.research.google.com/github/Sadhu2005/Linear-Regression-Ybi-fundation-project-/blob/main/Big_Data_and_Cloud_Computing_Fundamentals.ipynb\" target=\"_parent\"><img src=\"https://colab.research.google.com/assets/colab-badge.svg\" alt=\"Open In Colab\"/></a>"
      ]
    },
    {
      "cell_type": "markdown",
      "source": [
        "# **Big Data**"
      ],
      "metadata": {
        "id": "DbpWA44lLDD7"
      }
    },
    {
      "cell_type": "code",
      "source": [
        "!pip install pyspark"
      ],
      "metadata": {
        "id": "03bvoThCOsed"
      },
      "execution_count": null,
      "outputs": []
    },
    {
      "cell_type": "code",
      "source": [
        "import pyspark"
      ],
      "metadata": {
        "id": "n2s9eKp7O0SC"
      },
      "execution_count": null,
      "outputs": []
    },
    {
      "cell_type": "code",
      "source": [
        "from pyspark.sql import SparkSession"
      ],
      "metadata": {
        "id": "gVc9hTDxO0VN"
      },
      "execution_count": null,
      "outputs": []
    },
    {
      "cell_type": "code",
      "source": [
        "spark = SparkSession.builder.getOrCreate()"
      ],
      "metadata": {
        "id": "fWJ6435yO0Xy"
      },
      "execution_count": null,
      "outputs": []
    },
    {
      "cell_type": "code",
      "source": [
        "spark"
      ],
      "metadata": {
        "colab": {
          "base_uri": "https://localhost:8080/",
          "height": 219
        },
        "id": "IqYmWcVLPthQ",
        "outputId": "fbbfa8ab-7a8c-4d5a-9e1a-3f4c0b6befd6"
      },
      "execution_count": null,
      "outputs": [
        {
          "output_type": "execute_result",
          "data": {
            "text/plain": [
              "<pyspark.sql.session.SparkSession at 0x78bd8e58a1a0>"
            ],
            "text/html": [
              "\n",
              "            <div>\n",
              "                <p><b>SparkSession - in-memory</b></p>\n",
              "                \n",
              "        <div>\n",
              "            <p><b>SparkContext</b></p>\n",
              "\n",
              "            <p><a href=\"http://5d22b5dc0585:4040\">Spark UI</a></p>\n",
              "\n",
              "            <dl>\n",
              "              <dt>Version</dt>\n",
              "                <dd><code>v3.5.1</code></dd>\n",
              "              <dt>Master</dt>\n",
              "                <dd><code>local[*]</code></dd>\n",
              "              <dt>AppName</dt>\n",
              "                <dd><code>pyspark-shell</code></dd>\n",
              "            </dl>\n",
              "        </div>\n",
              "        \n",
              "            </div>\n",
              "        "
            ]
          },
          "metadata": {},
          "execution_count": 11
        }
      ]
    },
    {
      "cell_type": "code",
      "source": [
        "#spark.stop()"
      ],
      "metadata": {
        "id": "-j3OE3GOPwmo"
      },
      "execution_count": null,
      "outputs": []
    },
    {
      "cell_type": "code",
      "source": [
        "sdf = spark.read.csv('/content/HR50k.csv',header=True,inferSchema=True)"
      ],
      "metadata": {
        "id": "Gl-Ivc6MQuoS"
      },
      "execution_count": null,
      "outputs": []
    },
    {
      "cell_type": "code",
      "source": [
        "sdf.show(2)"
      ],
      "metadata": {
        "colab": {
          "base_uri": "https://localhost:8080/"
        },
        "id": "s960zfg6Ruvd",
        "outputId": "85982f67-7c89-4603-f9fe-cd407db6fe7e"
      },
      "execution_count": null,
      "outputs": [
        {
          "output_type": "stream",
          "name": "stdout",
          "text": [
            "+---+---------+--------------+---------+---------------+----------------+---------+--------------+-------------+--------------+-----------------------+------+----------+--------------+--------+--------------------+---------------+-------------+-------------+-----------+------------------+------+--------+-----------------+-----------------+------------------------+-------------+----------------+-----------------+---------------------+---------------+--------------+------------------+-----------------------+--------------------+\n",
            "|Age|Attrition|BusinessTravel|DailyRate|     Department|DistanceFromHome|Education|EducationField|EmployeeCount|EmployeeNumber|EnvironmentSatisfaction|Gender|HourlyRate|JobInvolvement|JobLevel|             JobRole|JobSatisfaction|MaritalStatus|MonthlyIncome|MonthlyRate|NumCompaniesWorked|Over18|OverTime|PercentSalaryHike|PerformanceRating|RelationshipSatisfaction|StandardHours|StockOptionLevel|TotalWorkingYears|TrainingTimesLastYear|WorkLifeBalance|YearsAtCompany|YearsInCurrentRole|YearsSinceLastPromotion|YearsWithCurrManager|\n",
            "+---+---------+--------------+---------+---------------+----------------+---------+--------------+-------------+--------------+-----------------------+------+----------+--------------+--------+--------------------+---------------+-------------+-------------+-----------+------------------+------+--------+-----------------+-----------------+------------------------+-------------+----------------+-----------------+---------------------+---------------+--------------+------------------+-----------------------+--------------------+\n",
            "| 31|       No|    Non-Travel|      158|       Software|               7|        3|       Medical|            1|             1|                      3|  Male|        42|             2|       3|           Developer|              1|      Married|        42682|     298774|                 2|     Y|      No|               20|                4|                       1|           80|               2|               15|                    1|              2|            12|                 4|                     10|                  11|\n",
            "| 38|       No| Travel_Rarely|      985|Human Resources|              33|        5| Life Sciences|            1|             2|                      1|Female|        66|             2|       4|Healthcare Repres...|              3|       Single|        45252|      45252|                 8|     Y|      No|                2|                1|                       3|           80|               4|                5|                    4|              3|             1|                 1|                      1|                   1|\n",
            "+---+---------+--------------+---------+---------------+----------------+---------+--------------+-------------+--------------+-----------------------+------+----------+--------------+--------+--------------------+---------------+-------------+-------------+-----------+------------------+------+--------+-----------------+-----------------+------------------------+-------------+----------------+-----------------+---------------------+---------------+--------------+------------------+-----------------------+--------------------+\n",
            "only showing top 2 rows\n",
            "\n"
          ]
        }
      ]
    },
    {
      "cell_type": "code",
      "source": [
        "sdf.dtypes"
      ],
      "metadata": {
        "colab": {
          "base_uri": "https://localhost:8080/"
        },
        "id": "uZHw8yllR08F",
        "outputId": "25f3e3d6-eb25-4c9c-c815-c0577764fa45"
      },
      "execution_count": null,
      "outputs": [
        {
          "output_type": "execute_result",
          "data": {
            "text/plain": [
              "[('Age', 'int'),\n",
              " ('Attrition', 'string'),\n",
              " ('BusinessTravel', 'string'),\n",
              " ('DailyRate', 'int'),\n",
              " ('Department', 'string'),\n",
              " ('DistanceFromHome', 'int'),\n",
              " ('Education', 'int'),\n",
              " ('EducationField', 'string'),\n",
              " ('EmployeeCount', 'int'),\n",
              " ('EmployeeNumber', 'int'),\n",
              " ('EnvironmentSatisfaction', 'int'),\n",
              " ('Gender', 'string'),\n",
              " ('HourlyRate', 'int'),\n",
              " ('JobInvolvement', 'int'),\n",
              " ('JobLevel', 'int'),\n",
              " ('JobRole', 'string'),\n",
              " ('JobSatisfaction', 'int'),\n",
              " ('MaritalStatus', 'string'),\n",
              " ('MonthlyIncome', 'int'),\n",
              " ('MonthlyRate', 'int'),\n",
              " ('NumCompaniesWorked', 'int'),\n",
              " ('Over18', 'string'),\n",
              " ('OverTime', 'string'),\n",
              " ('PercentSalaryHike', 'int'),\n",
              " ('PerformanceRating', 'int'),\n",
              " ('RelationshipSatisfaction', 'int'),\n",
              " ('StandardHours', 'int'),\n",
              " ('StockOptionLevel', 'int'),\n",
              " ('TotalWorkingYears', 'int'),\n",
              " ('TrainingTimesLastYear', 'int'),\n",
              " ('WorkLifeBalance', 'int'),\n",
              " ('YearsAtCompany', 'int'),\n",
              " ('YearsInCurrentRole', 'int'),\n",
              " ('YearsSinceLastPromotion', 'int'),\n",
              " ('YearsWithCurrManager', 'int')]"
            ]
          },
          "metadata": {},
          "execution_count": 19
        }
      ]
    },
    {
      "cell_type": "code",
      "source": [
        "sdf.printSchema()"
      ],
      "metadata": {
        "colab": {
          "base_uri": "https://localhost:8080/"
        },
        "id": "gZWkJw6CSDBM",
        "outputId": "2561e92f-84d9-4115-e4d0-295c7312560d"
      },
      "execution_count": null,
      "outputs": [
        {
          "output_type": "stream",
          "name": "stdout",
          "text": [
            "root\n",
            " |-- Age: integer (nullable = true)\n",
            " |-- Attrition: string (nullable = true)\n",
            " |-- BusinessTravel: string (nullable = true)\n",
            " |-- DailyRate: integer (nullable = true)\n",
            " |-- Department: string (nullable = true)\n",
            " |-- DistanceFromHome: integer (nullable = true)\n",
            " |-- Education: integer (nullable = true)\n",
            " |-- EducationField: string (nullable = true)\n",
            " |-- EmployeeCount: integer (nullable = true)\n",
            " |-- EmployeeNumber: integer (nullable = true)\n",
            " |-- EnvironmentSatisfaction: integer (nullable = true)\n",
            " |-- Gender: string (nullable = true)\n",
            " |-- HourlyRate: integer (nullable = true)\n",
            " |-- JobInvolvement: integer (nullable = true)\n",
            " |-- JobLevel: integer (nullable = true)\n",
            " |-- JobRole: string (nullable = true)\n",
            " |-- JobSatisfaction: integer (nullable = true)\n",
            " |-- MaritalStatus: string (nullable = true)\n",
            " |-- MonthlyIncome: integer (nullable = true)\n",
            " |-- MonthlyRate: integer (nullable = true)\n",
            " |-- NumCompaniesWorked: integer (nullable = true)\n",
            " |-- Over18: string (nullable = true)\n",
            " |-- OverTime: string (nullable = true)\n",
            " |-- PercentSalaryHike: integer (nullable = true)\n",
            " |-- PerformanceRating: integer (nullable = true)\n",
            " |-- RelationshipSatisfaction: integer (nullable = true)\n",
            " |-- StandardHours: integer (nullable = true)\n",
            " |-- StockOptionLevel: integer (nullable = true)\n",
            " |-- TotalWorkingYears: integer (nullable = true)\n",
            " |-- TrainingTimesLastYear: integer (nullable = true)\n",
            " |-- WorkLifeBalance: integer (nullable = true)\n",
            " |-- YearsAtCompany: integer (nullable = true)\n",
            " |-- YearsInCurrentRole: integer (nullable = true)\n",
            " |-- YearsSinceLastPromotion: integer (nullable = true)\n",
            " |-- YearsWithCurrManager: integer (nullable = true)\n",
            "\n"
          ]
        }
      ]
    },
    {
      "cell_type": "code",
      "source": [
        "sdf.columns"
      ],
      "metadata": {
        "colab": {
          "base_uri": "https://localhost:8080/"
        },
        "id": "u7AELaSWS3kC",
        "outputId": "c7683bf3-668d-495a-e167-a0d326ac0d4d"
      },
      "execution_count": null,
      "outputs": [
        {
          "output_type": "execute_result",
          "data": {
            "text/plain": [
              "['Age',\n",
              " 'Attrition',\n",
              " 'BusinessTravel',\n",
              " 'DailyRate',\n",
              " 'Department',\n",
              " 'DistanceFromHome',\n",
              " 'Education',\n",
              " 'EducationField',\n",
              " 'EmployeeCount',\n",
              " 'EmployeeNumber',\n",
              " 'EnvironmentSatisfaction',\n",
              " 'Gender',\n",
              " 'HourlyRate',\n",
              " 'JobInvolvement',\n",
              " 'JobLevel',\n",
              " 'JobRole',\n",
              " 'JobSatisfaction',\n",
              " 'MaritalStatus',\n",
              " 'MonthlyIncome',\n",
              " 'MonthlyRate',\n",
              " 'NumCompaniesWorked',\n",
              " 'Over18',\n",
              " 'OverTime',\n",
              " 'PercentSalaryHike',\n",
              " 'PerformanceRating',\n",
              " 'RelationshipSatisfaction',\n",
              " 'StandardHours',\n",
              " 'StockOptionLevel',\n",
              " 'TotalWorkingYears',\n",
              " 'TrainingTimesLastYear',\n",
              " 'WorkLifeBalance',\n",
              " 'YearsAtCompany',\n",
              " 'YearsInCurrentRole',\n",
              " 'YearsSinceLastPromotion',\n",
              " 'YearsWithCurrManager']"
            ]
          },
          "metadata": {},
          "execution_count": 23
        }
      ]
    },
    {
      "cell_type": "code",
      "source": [
        "sdf.describe().show()"
      ],
      "metadata": {
        "colab": {
          "base_uri": "https://localhost:8080/"
        },
        "id": "V_bfFOULTBBV",
        "outputId": "2d0e437f-f561-401c-f09e-cc613ef95db5"
      },
      "execution_count": null,
      "outputs": [
        {
          "output_type": "stream",
          "name": "stdout",
          "text": [
            "+-------+-----------------+---------+--------------+------------------+----------+------------------+------------------+----------------+-------------+-----------------+-----------------------+------+-----------------+-----------------+------------------+--------------------+------------------+-------------+------------------+------------------+------------------+------+--------+------------------+------------------+------------------------+-------------+------------------+------------------+---------------------+------------------+-----------------+------------------+-----------------------+--------------------+\n",
            "|summary|              Age|Attrition|BusinessTravel|         DailyRate|Department|  DistanceFromHome|         Education|  EducationField|EmployeeCount|   EmployeeNumber|EnvironmentSatisfaction|Gender|       HourlyRate|   JobInvolvement|          JobLevel|             JobRole|   JobSatisfaction|MaritalStatus|     MonthlyIncome|       MonthlyRate|NumCompaniesWorked|Over18|OverTime| PercentSalaryHike| PerformanceRating|RelationshipSatisfaction|StandardHours|  StockOptionLevel| TotalWorkingYears|TrainingTimesLastYear|   WorkLifeBalance|   YearsAtCompany|YearsInCurrentRole|YearsSinceLastPromotion|YearsWithCurrManager|\n",
            "+-------+-----------------+---------+--------------+------------------+----------+------------------+------------------+----------------+-------------+-----------------+-----------------------+------+-----------------+-----------------+------------------+--------------------+------------------+-------------+------------------+------------------+------------------+------+--------+------------------+------------------+------------------------+-------------+------------------+------------------+---------------------+------------------+-----------------+------------------+-----------------------+--------------------+\n",
            "|  count|            50000|    50000|         50000|             50000|     50000|             50000|             50000|           50000|        50000|            50000|                  50000| 50000|            50000|            50000|             50000|               50000|             50000|        50000|             50000|             50000|             50000| 50000|   50000|             50000|             50000|                   50000|        50000|             50000|             50000|                50000|             50000|            50000|             50000|                  50000|               50000|\n",
            "|   mean|         38.97148|     NULL|          NULL|         798.67756|      NULL|          25.53978|            3.0046|            NULL|          1.0|          25000.5|                2.49836|  NULL|        115.43294|          2.50262|           2.99464|                NULL|           2.48738|         NULL|       26015.78126|      404043.57942|             3.999|  NULL|    NULL|          24.61832|           2.49596|                 2.50222|         80.0|           2.50378|          20.49686|              3.49398|           2.49872|          10.7711|            5.9073|                5.87182|             5.88904|\n",
            "| stddev|12.42083379455027|     NULL|          NULL|405.08021678685725|      NULL|14.339955726507823|1.4142485078573823|            NULL|          0.0|14433.90106658626|      1.119670658563342|  NULL|49.42486660887611|1.120543728716091|1.4159983656160842|                NULL|1.1163089440263205|         NULL|14410.977499609877|340190.81112818094| 2.582373399229366|  NULL|    NULL|14.405000189455322|1.1180915351497904|      1.1179177368667783|          0.0|1.1189328629614141|11.575819199184258|   1.7081516663464946|1.1141199158365949|8.934229748513532| 6.034377762810301|      5.999055730779056|   6.009613147899259|\n",
            "|    min|               18|       No|    Non-Travel|               100|  Hardware|                 1|                 1| Human Resources|            1|                1|                      1|Female|               30|                1|                 1|           Developer|                 1|     Divorced|              1001|              1007|                 0|     Y|      No|                 0|                 1|                       1|           80|                 1|                 1|                    1|                 1|                1|                 1|                      1|                   1|\n",
            "|    max|               60|      Yes| Travel_Rarely|              1500|   Support|                50|                 5|Technical Degree|            1|            50000|                      4|  Male|              200|                4|                 5|Sales Representative|                 4|       Single|             50999|           1528290|                 8|     Y|     Yes|                49|                 4|                       4|           80|                 4|                40|                    6|                 4|               40|                40|                     40|                  40|\n",
            "+-------+-----------------+---------+--------------+------------------+----------+------------------+------------------+----------------+-------------+-----------------+-----------------------+------+-----------------+-----------------+------------------+--------------------+------------------+-------------+------------------+------------------+------------------+------+--------+------------------+------------------+------------------------+-------------+------------------+------------------+---------------------+------------------+-----------------+------------------+-----------------------+--------------------+\n",
            "\n"
          ]
        }
      ]
    },
    {
      "cell_type": "code",
      "source": [
        "sdf.select(['Age','Education']).show()"
      ],
      "metadata": {
        "colab": {
          "base_uri": "https://localhost:8080/"
        },
        "id": "hkEaVTg9THzj",
        "outputId": "e992461c-b9f3-42cf-884c-71c57fc4e884"
      },
      "execution_count": null,
      "outputs": [
        {
          "output_type": "stream",
          "name": "stdout",
          "text": [
            "+---+---------+\n",
            "|Age|Education|\n",
            "+---+---------+\n",
            "| 31|        3|\n",
            "| 38|        5|\n",
            "| 59|        2|\n",
            "| 52|        5|\n",
            "| 32|        5|\n",
            "| 19|        1|\n",
            "| 42|        4|\n",
            "| 30|        3|\n",
            "| 41|        1|\n",
            "| 45|        5|\n",
            "| 36|        4|\n",
            "| 23|        4|\n",
            "| 24|        1|\n",
            "| 39|        2|\n",
            "| 42|        3|\n",
            "| 44|        2|\n",
            "| 50|        4|\n",
            "| 42|        4|\n",
            "| 49|        1|\n",
            "| 58|        4|\n",
            "+---+---------+\n",
            "only showing top 20 rows\n",
            "\n"
          ]
        }
      ]
    },
    {
      "cell_type": "code",
      "source": [
        "sdf['Age']<20"
      ],
      "metadata": {
        "colab": {
          "base_uri": "https://localhost:8080/"
        },
        "id": "GEKV2pW7UDP4",
        "outputId": "4680dded-47da-4c4f-d84e-63b5e78d5f47"
      },
      "execution_count": null,
      "outputs": [
        {
          "output_type": "execute_result",
          "data": {
            "text/plain": [
              "Column<'(Age < 20)'>"
            ]
          },
          "metadata": {},
          "execution_count": 29
        }
      ]
    },
    {
      "cell_type": "code",
      "source": [
        "sdf['MaritalStatus']=='Married'"
      ],
      "metadata": {
        "colab": {
          "base_uri": "https://localhost:8080/"
        },
        "id": "KHPKPzXEVYto",
        "outputId": "3ffaaaf6-91d9-43d2-aaf4-b59e2a491d83"
      },
      "execution_count": null,
      "outputs": [
        {
          "output_type": "execute_result",
          "data": {
            "text/plain": [
              "Column<'(MaritalStatus = Married)'>"
            ]
          },
          "metadata": {},
          "execution_count": 31
        }
      ]
    },
    {
      "cell_type": "code",
      "source": [
        "sdf.filter((sdf['Age']<20)&(sdf['MaritalStatus']=='Married')).show()"
      ],
      "metadata": {
        "colab": {
          "base_uri": "https://localhost:8080/"
        },
        "id": "2_J0cghaVBnA",
        "outputId": "98586194-100c-4073-e293-21621ae6a47a"
      },
      "execution_count": null,
      "outputs": [
        {
          "output_type": "stream",
          "name": "stdout",
          "text": [
            "+---+---------+-----------------+---------+--------------------+----------------+---------+----------------+-------------+--------------+-----------------------+------+----------+--------------+--------+--------------------+---------------+-------------+-------------+-----------+------------------+------+--------+-----------------+-----------------+------------------------+-------------+----------------+-----------------+---------------------+---------------+--------------+------------------+-----------------------+--------------------+\n",
            "|Age|Attrition|   BusinessTravel|DailyRate|          Department|DistanceFromHome|Education|  EducationField|EmployeeCount|EmployeeNumber|EnvironmentSatisfaction|Gender|HourlyRate|JobInvolvement|JobLevel|             JobRole|JobSatisfaction|MaritalStatus|MonthlyIncome|MonthlyRate|NumCompaniesWorked|Over18|OverTime|PercentSalaryHike|PerformanceRating|RelationshipSatisfaction|StandardHours|StockOptionLevel|TotalWorkingYears|TrainingTimesLastYear|WorkLifeBalance|YearsAtCompany|YearsInCurrentRole|YearsSinceLastPromotion|YearsWithCurrManager|\n",
            "+---+---------+-----------------+---------+--------------------+----------------+---------+----------------+-------------+--------------+-----------------------+------+----------+--------------+--------+--------------------+---------------+-------------+-------------+-----------+------------------+------+--------+-----------------+-----------------+------------------------+-------------+----------------+-----------------+---------------------+---------------+--------------+------------------+-----------------------+--------------------+\n",
            "| 19|      Yes|       Non-Travel|      779|            Hardware|              43|        1|         Medical|            1|             6|                      2|Female|       195|             4|       3|   Research Director|              3|      Married|        41552|    1246560|                 3|     Y|     Yes|               15|                4|                       3|           80|               1|               33|                    4|              2|            16|                 4|                     14|                   3|\n",
            "| 19|       No|       Non-Travel|      797|Research & Develo...|              22|        2| Human Resources|            1|           202|                      3|  Male|       116|             3|       4|             Manager|              3|      Married|        20919|     230109|                 7|     Y|      No|                9|                2|                       1|           80|               2|               29|                    4|              2|             8|                 7|                      6|                   5|\n",
            "| 19|      Yes|    Travel_Rarely|      368|            Software|              39|        4|         Medical|            1|           369|                      4|  Male|        72|             3|       5|           Developer|              1|      Married|        20473|     614190|                 6|     Y|     Yes|               24|                4|                       4|           80|               2|               37|                    5|              1|            32|                28|                     19|                  31|\n",
            "| 18|       No|    Travel_Rarely|     1135|     Human Resources|              32|        4|         Medical|            1|           540|                      1|  Male|       178|             3|       2|  Research Scientist|              4|      Married|        24621|     393936|                 4|     Y|      No|               12|                3|                       1|           80|               1|                4|                    4|              4|             4|                 4|                      1|                   1|\n",
            "| 19|       No|Travel_Frequently|     1386|             Support|              36|        1| Human Resources|            1|           550|                      4|  Male|        32|             2|       5|           Developer|              4|      Married|        46125|     691875|                 6|     Y|      No|               12|                4|                       4|           80|               1|               31|                    1|              2|             8|                 1|                      6|                   2|\n",
            "| 19|       No|Travel_Frequently|      996|             Support|              46|        5|Technical Degree|            1|           569|                      1|Female|       117|             1|       4|Manufacturing Dir...|              2|      Married|        34587|      69174|                 2|     Y|      No|               15|                4|                       3|           80|               3|               20|                    4|              3|            16|                10|                      8|                   7|\n",
            "| 19|       No|    Travel_Rarely|     1140|Research & Develo...|               5|        4|       Marketing|            1|           573|                      2|Female|       150|             4|       5|     Human Resources|              4|      Married|        10246|      81968|                 2|     Y|     Yes|               28|                1|                       2|           80|               2|               27|                    5|              4|             1|                 1|                      1|                   1|\n",
            "| 19|       No|Travel_Frequently|      943|            Software|              28|        4|   Life Sciences|            1|           584|                      2|Female|       106|             4|       3|             Manager|              2|      Married|        14744|     368600|                 6|     Y|     Yes|               31|                2|                       3|           80|               2|               35|                    4|              3|            29|                27|                     24|                  29|\n",
            "| 19|      Yes|       Non-Travel|      942|     Human Resources|              44|        3|Technical Degree|            1|           991|                      1|Female|        67|             1|       4|  Research Scientist|              3|      Married|         9892|     207732|                 5|     Y|     Yes|               29|                1|                       1|           80|               1|               13|                    4|              4|             3|                 3|                      1|                   3|\n",
            "| 19|      Yes|       Non-Travel|      926|Research & Develo...|              24|        5|Technical Degree|            1|          1048|                      4|Female|        72|             1|       4|     Sales Executive|              3|      Married|        34885|     348850|                 0|     Y|      No|               15|                3|                       1|           80|               2|               11|                    2|              2|            11|                 9|                      2|                   6|\n",
            "| 18|      Yes|       Non-Travel|      929|            Hardware|              16|        1|           Other|            1|          1194|                      4|Female|        55|             1|       4|             Manager|              1|      Married|         2869|      57380|                 1|     Y|      No|               20|                4|                       2|           80|               4|               14|                    1|              4|            12|                11|                     12|                   3|\n",
            "| 18|       No|       Non-Travel|     1337|               Sales|               1|        5|Technical Degree|            1|          1245|                      1|Female|       165|             2|       1|Healthcare Repres...|              4|      Married|        18620|     484120|                 1|     Y|     Yes|               26|                4|                       4|           80|               1|                6|                    1|              2|             3|                 1|                      2|                   2|\n",
            "| 18|       No|    Travel_Rarely|     1016|     Human Resources|               7|        4| Human Resources|            1|          1270|                      4|  Male|       188|             1|       3|Manufacturing Dir...|              2|      Married|         7459|     179016|                 7|     Y|      No|               41|                3|                       1|           80|               4|               33|                    3|              1|            17|                 7|                     10|                  12|\n",
            "| 19|      Yes|       Non-Travel|      381|     Human Resources|               9|        3|           Other|            1|          1306|                      4|  Male|        53|             1|       1|  Research Scientist|              1|      Married|        24321|      48642|                 8|     Y|      No|               25|                1|                       2|           80|               4|                5|                    3|              2|             1|                 1|                      1|                   1|\n",
            "| 18|      Yes|Travel_Frequently|      834|            Software|              20|        3| Human Resources|            1|          1605|                      1|  Male|        93|             2|       3|Healthcare Repres...|              2|      Married|        21317|     490291|                 6|     Y|     Yes|               18|                4|                       4|           80|               1|               16|                    3|              2|             8|                 3|                      3|                   7|\n",
            "| 18|      Yes|Travel_Frequently|      286|Research & Develo...|              17|        3|Technical Degree|            1|          1666|                      4|Female|       123|             1|       5|           Developer|              4|      Married|        25420|     711760|                 0|     Y|     Yes|                6|                2|                       4|           80|               1|                7|                    6|              2|             7|                 4|                      5|                   2|\n",
            "| 18|       No|       Non-Travel|      764|            Software|              11|        5|Technical Degree|            1|          1725|                      1|  Male|       137|             1|       2|Manufacturing Dir...|              4|      Married|        34929|     174645|                 2|     Y|      No|               26|                2|                       2|           80|               4|               24|                    1|              2|            10|                 5|                      7|                   6|\n",
            "| 18|       No|    Travel_Rarely|      789|            Software|              44|        4|           Other|            1|          1802|                      2|  Male|        73|             2|       1|Sales Representative|              1|      Married|         3005|      21035|                 6|     Y|     Yes|               41|                1|                       1|           80|               1|               35|                    2|              4|            30|                 2|                      2|                   6|\n",
            "| 18|      Yes|       Non-Travel|      987|            Hardware|              47|        5|         Medical|            1|          1819|                      4|  Male|       122|             3|       1|   Research Director|              4|      Married|         7369|     184225|                 4|     Y|     Yes|               15|                4|                       1|           80|               1|               12|                    6|              3|             5|                 4|                      4|                   3|\n",
            "| 18|      Yes|    Travel_Rarely|      845|               Sales|              30|        3| Human Resources|            1|          1969|                      3|Female|        71|             1|       2|Healthcare Repres...|              2|      Married|        50686|    1368522|                 8|     Y|      No|               45|                1|                       4|           80|               1|               38|                    2|              4|            29|                19|                     22|                   1|\n",
            "+---+---------+-----------------+---------+--------------------+----------------+---------+----------------+-------------+--------------+-----------------------+------+----------+--------------+--------+--------------------+---------------+-------------+-------------+-----------+------------------+------+--------+-----------------+-----------------+------------------------+-------------+----------------+-----------------+---------------------+---------------+--------------+------------------+-----------------------+--------------------+\n",
            "only showing top 20 rows\n",
            "\n"
          ]
        }
      ]
    },
    {
      "cell_type": "code",
      "source": [
        "sdf.groupBy('EducationField').mean().show()"
      ],
      "metadata": {
        "colab": {
          "base_uri": "https://localhost:8080/"
        },
        "id": "6RYozSd_VJD8",
        "outputId": "bfdb6dc1-69e4-40e5-874a-5da2d6d9ee6d"
      },
      "execution_count": null,
      "outputs": [
        {
          "output_type": "stream",
          "name": "stdout",
          "text": [
            "+----------------+------------------+-----------------+---------------------+------------------+------------------+-------------------+----------------------------+------------------+-------------------+------------------+--------------------+------------------+------------------+-----------------------+----------------------+----------------------+-----------------------------+------------------+---------------------+----------------------+--------------------------+--------------------+-------------------+-----------------------+----------------------------+-------------------------+\n",
            "|  EducationField|          avg(Age)|   avg(DailyRate)|avg(DistanceFromHome)|    avg(Education)|avg(EmployeeCount)|avg(EmployeeNumber)|avg(EnvironmentSatisfaction)|   avg(HourlyRate)|avg(JobInvolvement)|     avg(JobLevel)|avg(JobSatisfaction)|avg(MonthlyIncome)|  avg(MonthlyRate)|avg(NumCompaniesWorked)|avg(PercentSalaryHike)|avg(PerformanceRating)|avg(RelationshipSatisfaction)|avg(StandardHours)|avg(StockOptionLevel)|avg(TotalWorkingYears)|avg(TrainingTimesLastYear)|avg(WorkLifeBalance)|avg(YearsAtCompany)|avg(YearsInCurrentRole)|avg(YearsSinceLastPromotion)|avg(YearsWithCurrManager)|\n",
            "+----------------+------------------+-----------------+---------------------+------------------+------------------+-------------------+----------------------------+------------------+-------------------+------------------+--------------------+------------------+------------------+-----------------------+----------------------+----------------------+-----------------------------+------------------+---------------------+----------------------+--------------------------+--------------------+-------------------+-----------------------+----------------------------+-------------------------+\n",
            "|Technical Degree|39.050389483933785|790.0309152872444|   25.741601752677703|2.9990262901655305|               1.0| 25033.292964946446|          2.4750486854917235| 115.9634858812074| 2.5085199610516065|2.9892891918208373|   2.486124634858812|26172.303432327168| 407775.2302823759|      3.987706913339825|    24.674659201557937|    2.4847857838364167|            2.502069133398247|              80.0|    2.508398247322298|     20.36051606621227|        3.5047468354430378|    2.48539435248296| 10.684761441090554|     5.8612463485881205|           5.889118792599805|       5.7912609542356375|\n",
            "|           Other| 39.01626988874267|801.3984926426606|   25.495513817442276|3.0132791003708577|               1.0|  25029.89615982773|           2.492762292140208|115.50568249790645|   2.49838497427922|2.9894724249312117|  2.4852255054432346|26177.430314630936| 409429.0267974638|      4.022012202416557|    24.703911951190335|    2.5044861825577223|            2.505802129441321|              80.0|    2.497547553535112|    20.232204809187703|        3.5065199186505565|   2.505203971766958| 10.713721737049886|      5.862184471826773|           5.787175499461658|        5.835506639550186|\n",
            "|       Marketing|38.844943271928756|797.6675613029157|    25.72221544467488|3.0235451994632183|               1.0| 24866.628034646823|           2.498353055996096| 115.8647065999756|   2.51067463706234| 2.994998170062218|   2.484201537147737|26281.065999756007| 407863.5512992558|      3.987800414785897|    24.486397462486277|     2.478711723801391|            2.489447358789801|              80.0|    2.500914968891058|    20.545931438331095|        3.4810296449920703|   2.489081371233378| 10.785897279492497|      5.880932048310357|           5.877516164450409|        5.980114676101013|\n",
            "|         Medical| 38.77344022307424|807.8110840013942|    25.50551876379691|3.0095271290809804|               1.0| 25075.619263390265|           2.495875450214941|114.92087835482747|  2.492506099686302| 3.006738701057279|   2.496456372719879|25883.567445102824| 402323.4375508307|     3.9880329963982803|    24.673637736725922|    2.4956430812129664|            2.512722202858139|              80.0|   2.4734518415243407|    20.512025095852213|         3.491111885674451|   2.489485302660625| 10.723945625653538|      5.922156384338329|           5.881259439990705|        5.885558266527245|\n",
            "|   Life Sciences| 38.95575008993884|789.3020745892793|   25.394052044609666|2.9960426909701403|               1.0|  25160.64660031179|          2.5188871567334212|115.57692768917137|  2.510492864851901| 2.997121957069193|  2.4908262381580526|  25875.6051085262|400603.39585082146|     3.9834512531478596|     24.58412279649838|    2.5089339249310467|            2.507015229643842|              80.0|    2.535435903585562|    20.629332054203143|        3.5034176759803333|  2.4908262381580526| 10.800695527041611|      5.992684974217532|           5.822640604389015|        5.876483990886197|\n",
            "| Human Resources| 39.19488046365612|805.4567737261531|    25.38601787007969| 2.986114465105047|               1.0| 24831.481043226275|           2.509055783627143|114.79304515817435| 2.4956532238589713|2.9897367785559044|   2.481043226273847| 25713.33542622555| 396376.8858971263|     4.0251147065926105|    24.583554696933106|    2.5027771069789906|           2.4956532238589713|              80.0|    2.507969089591886|     20.70152137164936|        3.4769379376962086|  2.5324800772760203| 10.919222410045883|      5.923206954841826|           5.974160830717218|        5.966191741125332|\n",
            "+----------------+------------------+-----------------+---------------------+------------------+------------------+-------------------+----------------------------+------------------+-------------------+------------------+--------------------+------------------+------------------+-----------------------+----------------------+----------------------+-----------------------------+------------------+---------------------+----------------------+--------------------------+--------------------+-------------------+-----------------------+----------------------------+-------------------------+\n",
            "\n"
          ]
        }
      ]
    },
    {
      "cell_type": "code",
      "source": [
        "sdf.groupBy('EducationField').max().show()"
      ],
      "metadata": {
        "colab": {
          "base_uri": "https://localhost:8080/"
        },
        "id": "VaRpPrpkWFuH",
        "outputId": "7d829a90-524b-4e99-8b83-8f9a7013cc2c"
      },
      "execution_count": null,
      "outputs": [
        {
          "output_type": "stream",
          "name": "stdout",
          "text": [
            "+----------------+--------+--------------+---------------------+--------------+------------------+-------------------+----------------------------+---------------+-------------------+-------------+--------------------+------------------+----------------+-----------------------+----------------------+----------------------+-----------------------------+------------------+---------------------+----------------------+--------------------------+--------------------+-------------------+-----------------------+----------------------------+-------------------------+\n",
            "|  EducationField|max(Age)|max(DailyRate)|max(DistanceFromHome)|max(Education)|max(EmployeeCount)|max(EmployeeNumber)|max(EnvironmentSatisfaction)|max(HourlyRate)|max(JobInvolvement)|max(JobLevel)|max(JobSatisfaction)|max(MonthlyIncome)|max(MonthlyRate)|max(NumCompaniesWorked)|max(PercentSalaryHike)|max(PerformanceRating)|max(RelationshipSatisfaction)|max(StandardHours)|max(StockOptionLevel)|max(TotalWorkingYears)|max(TrainingTimesLastYear)|max(WorkLifeBalance)|max(YearsAtCompany)|max(YearsInCurrentRole)|max(YearsSinceLastPromotion)|max(YearsWithCurrManager)|\n",
            "+----------------+--------+--------------+---------------------+--------------+------------------+-------------------+----------------------------+---------------+-------------------+-------------+--------------------+------------------+----------------+-----------------------+----------------------+----------------------+-----------------------------+------------------+---------------------+----------------------+--------------------------+--------------------+-------------------+-----------------------+----------------------------+-------------------------+\n",
            "|Technical Degree|      60|          1500|                   50|             5|                 1|              49998|                           4|            200|                  4|            5|                   4|             50999|         1524750|                      8|                    49|                     4|                            4|                80|                    4|                    40|                         6|                   4|                 40|                     40|                          39|                       38|\n",
            "|           Other|      60|          1500|                   50|             5|                 1|              49999|                           4|            200|                  4|            5|                   4|             50993|         1528290|                      8|                    49|                     4|                            4|                80|                    4|                    40|                         6|                   4|                 40|                     39|                          38|                       37|\n",
            "|       Marketing|      60|          1500|                   50|             5|                 1|              49994|                           4|            200|                  4|            5|                   4|             50996|         1526790|                      8|                    49|                     4|                            4|                80|                    4|                    40|                         6|                   4|                 40|                     37|                          40|                       40|\n",
            "|         Medical|      60|          1500|                   50|             5|                 1|              49997|                           4|            200|                  4|            5|                   4|             50999|         1525560|                      8|                    49|                     4|                            4|                80|                    4|                    40|                         6|                   4|                 40|                     39|                          38|                       38|\n",
            "|   Life Sciences|      60|          1500|                   50|             5|                 1|              50000|                           4|            200|                  4|            5|                   4|             50999|         1524270|                      8|                    49|                     4|                            4|                80|                    4|                    40|                         6|                   4|                 40|                     39|                          38|                       40|\n",
            "| Human Resources|      60|          1500|                   50|             5|                 1|              49985|                           4|            200|                  4|            5|                   4|             50983|         1521300|                      8|                    49|                     4|                            4|                80|                    4|                    40|                         6|                   4|                 40|                     37|                          39|                       37|\n",
            "+----------------+--------+--------------+---------------------+--------------+------------------+-------------------+----------------------------+---------------+-------------------+-------------+--------------------+------------------+----------------+-----------------------+----------------------+----------------------+-----------------------------+------------------+---------------------+----------------------+--------------------------+--------------------+-------------------+-----------------------+----------------------------+-------------------------+\n",
            "\n"
          ]
        }
      ]
    },
    {
      "cell_type": "code",
      "source": [
        "sdf.orderBy(sdf['Age'].desc()).show()"
      ],
      "metadata": {
        "colab": {
          "base_uri": "https://localhost:8080/"
        },
        "id": "NFF2CadSWfiE",
        "outputId": "5b642037-9459-4142-ad03-1ee8dcb374e8"
      },
      "execution_count": null,
      "outputs": [
        {
          "output_type": "stream",
          "name": "stdout",
          "text": [
            "+---+---------+-----------------+---------+--------------------+----------------+---------+----------------+-------------+--------------+-----------------------+------+----------+--------------+--------+--------------------+---------------+-------------+-------------+-----------+------------------+------+--------+-----------------+-----------------+------------------------+-------------+----------------+-----------------+---------------------+---------------+--------------+------------------+-----------------------+--------------------+\n",
            "|Age|Attrition|   BusinessTravel|DailyRate|          Department|DistanceFromHome|Education|  EducationField|EmployeeCount|EmployeeNumber|EnvironmentSatisfaction|Gender|HourlyRate|JobInvolvement|JobLevel|             JobRole|JobSatisfaction|MaritalStatus|MonthlyIncome|MonthlyRate|NumCompaniesWorked|Over18|OverTime|PercentSalaryHike|PerformanceRating|RelationshipSatisfaction|StandardHours|StockOptionLevel|TotalWorkingYears|TrainingTimesLastYear|WorkLifeBalance|YearsAtCompany|YearsInCurrentRole|YearsSinceLastPromotion|YearsWithCurrManager|\n",
            "+---+---------+-----------------+---------+--------------------+----------------+---------+----------------+-------------+--------------+-----------------------+------+----------+--------------+--------+--------------------+---------------+-------------+-------------+-----------+------------------+------+--------+-----------------+-----------------+------------------------+-------------+----------------+-----------------+---------------------+---------------+--------------+------------------+-----------------------+--------------------+\n",
            "| 60|       No|       Non-Travel|      787|             Support|              15|        5|         Medical|            1|         39015|                      2|  Male|        95|             2|       1|Laboratory Techni...|              3|     Divorced|         3090|      15450|                 4|     Y|     Yes|               33|                1|                       1|           80|               3|               26|                    2|              1|             7|                 2|                      2|                   7|\n",
            "| 60|       No|       Non-Travel|      430|            Hardware|               5|        3|   Life Sciences|            1|           715|                      4|  Male|       175|             2|       5|  Research Scientist|              4|     Divorced|        20481|     389139|                 2|     Y|     Yes|               15|                4|                       1|           80|               2|               16|                    4|              3|             6|                 5|                      2|                   2|\n",
            "| 60|       No|       Non-Travel|      308|               Sales|              26|        2|Technical Degree|            1|         39018|                      2|  Male|        56|             2|       3|             Manager|              4|     Divorced|        23021|     690630|                 4|     Y|     Yes|               13|                3|                       1|           80|               1|               27|                    3|              4|            27|                21|                     10|                  25|\n",
            "| 60|       No|Travel_Frequently|      486|            Software|              38|        3|           Other|            1|          1649|                      3|  Male|        91|             1|       3|   Research Director|              4|     Divorced|        41890|      83780|                 3|     Y|      No|               18|                2|                       1|           80|               3|               23|                    4|              3|             2|                 1|                      1|                   2|\n",
            "| 60|      Yes|    Travel_Rarely|      287|            Hardware|              46|        4|           Other|            1|         39047|                      3|Female|       144|             4|       1|     Sales Executive|              4|       Single|        43830|     701280|                 8|     Y|     Yes|               14|                3|                       1|           80|               3|               20|                    6|              2|             7|                 7|                      4|                   3|\n",
            "| 60|      Yes|Travel_Frequently|     1118|             Support|              12|        4| Human Resources|            1|           838|                      1|  Male|        94|             2|       5|Sales Representative|              1|       Single|        12547|      62735|                 6|     Y|     Yes|                9|                1|                       2|           80|               4|                1|                    2|              2|             1|                 1|                      1|                   1|\n",
            "| 60|       No|Travel_Frequently|     1078|             Support|              12|        3| Human Resources|            1|         38666|                      1|Female|        97|             3|       5|     Sales Executive|              3|     Divorced|        16079|      96474|                 5|     Y|     Yes|                0|                1|                       1|           80|               2|               17|                    3|              1|             1|                 1|                      1|                   1|\n",
            "| 60|       No|       Non-Travel|     1177|Research & Develo...|              16|        3| Human Resources|            1|           250|                      1|  Male|       169|             2|       2|Manufacturing Dir...|              1|      Married|        24142|     217278|                 4|     Y|      No|               34|                3|                       1|           80|               4|               33|                    6|              2|            26|                13|                     21|                  22|\n",
            "| 60|       No|    Travel_Rarely|      158|             Support|              13|        4|           Other|            1|         39060|                      3|  Male|        65|             1|       2|Manufacturing Dir...|              1|     Divorced|        12855|     257100|                 2|     Y|      No|                2|                2|                       4|           80|               1|               17|                    4|              4|             1|                 1|                      1|                   1|\n",
            "| 60|      Yes|       Non-Travel|      133|               Sales|              42|        1|         Medical|            1|           877|                      1|  Male|       108|             1|       1|Healthcare Repres...|              4|     Divorced|        49907|     349349|                 2|     Y|     Yes|               29|                4|                       1|           80|               3|               28|                    2|              3|            23|                11|                     20|                  13|\n",
            "| 60|       No|       Non-Travel|     1183|               Sales|              19|        1|           Other|            1|         38740|                      1|  Male|       101|             2|       2|Laboratory Techni...|              4|      Married|        31161|      31161|                 7|     Y|     Yes|               17|                2|                       3|           80|               3|               10|                    4|              4|             4|                 4|                      4|                   4|\n",
            "| 60|       No|    Travel_Rarely|      533|     Human Resources|              10|        4| Human Resources|            1|           114|                      4|  Male|       163|             4|       4|     Sales Executive|              4|       Single|         7258|     217740|                 7|     Y|     Yes|               22|                4|                       1|           80|               3|               22|                    6|              4|            21|                14|                     21|                  10|\n",
            "| 60|       No|       Non-Travel|     1424|            Hardware|              15|        2|           Other|            1|         39074|                      4|  Male|       169|             3|       4|Manufacturing Dir...|              1|       Single|        44415|     532980|                 7|     Y|      No|               15|                1|                       1|           80|               1|                9|                    1|              1|             3|                 2|                      1|                   3|\n",
            "| 60|       No|    Travel_Rarely|     1473|Research & Develo...|              36|        1|   Life Sciences|            1|           910|                      1|  Male|        51|             3|       3|             Manager|              1|     Divorced|        41882|     167528|                 0|     Y|      No|               22|                4|                       3|           80|               1|                9|                    5|              3|             3|                 1|                      3|                   3|\n",
            "| 60|      Yes|Travel_Frequently|     1033|            Software|              15|        4|         Medical|            1|         38828|                      2|  Male|       166|             1|       3|             Manager|              1|       Single|        31909|     127636|                 4|     Y|     Yes|               13|                4|                       4|           80|               2|               28|                    2|              4|             7|                 4|                      7|                   3|\n",
            "| 60|      Yes|    Travel_Rarely|     1277|Research & Develo...|              16|        5|   Life Sciences|            1|            42|                      4|  Male|       136|             3|       3|Sales Representative|              4|       Single|        21259|     531475|                 7|     Y|      No|               18|                4|                       3|           80|               4|               34|                    2|              2|             7|                 4|                      7|                   4|\n",
            "| 60|      Yes|       Non-Travel|     1053|Research & Develo...|              26|        5|   Life Sciences|            1|         39100|                      4|Female|       156|             4|       1|   Research Director|              2|     Divorced|        42841|    1028184|                 5|     Y|      No|               16|                4|                       1|           80|               4|               31|                    6|              2|            13|                 5|                      1|                   1|\n",
            "| 60|       No|       Non-Travel|      383|     Human Resources|              30|        3| Human Resources|            1|           934|                      1|Female|        86|             2|       1|Laboratory Techni...|              1|     Divorced|        32010|     384120|                 8|     Y|     Yes|                8|                2|                       1|           80|               4|                4|                    3|              3|             1|                 1|                      1|                   1|\n",
            "| 60|       No|Travel_Frequently|      190|Research & Develo...|              26|        4|Technical Degree|            1|         38859|                      1|Female|       187|             1|       4|Laboratory Techni...|              2|      Married|        15939|     302841|                 0|     Y|      No|               32|                2|                       1|           80|               3|               32|                    5|              4|            30|                16|                      5|                   9|\n",
            "| 60|       No|    Travel_Rarely|     1348|               Sales|              32|        3|Technical Degree|            1|            98|                      1|  Male|       132|             3|       4|   Research Director|              1|     Divorced|        14216|     241672|                 2|     Y|     Yes|               42|                3|                       4|           80|               4|               39|                    5|              1|            22|                22|                     11|                  15|\n",
            "+---+---------+-----------------+---------+--------------------+----------------+---------+----------------+-------------+--------------+-----------------------+------+----------+--------------+--------+--------------------+---------------+-------------+-------------+-----------+------------------+------+--------+-----------------+-----------------+------------------------+-------------+----------------+-----------------+---------------------+---------------+--------------+------------------+-----------------------+--------------------+\n",
            "only showing top 20 rows\n",
            "\n"
          ]
        }
      ]
    },
    {
      "cell_type": "code",
      "source": [],
      "metadata": {
        "id": "gDLq5F3CWozA"
      },
      "execution_count": null,
      "outputs": []
    }
  ]
}